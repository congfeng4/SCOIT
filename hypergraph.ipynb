{
 "cells": [
  {
   "cell_type": "code",
   "execution_count": 6,
   "metadata": {},
   "outputs": [],
   "source": [
    "import numpy as np\n",
    "import pandas as pd\n",
    "from scoit import sc_multi_omics\n",
    "import time\n",
    "from scipy.sparse import csr_matrix\n",
    "import seaborn as sns\n",
    "import hypernetx as hnx\n",
    "from enum import Enum, unique\n",
    "\n",
    "def load_data():\n",
    "    expression_data = np.array(pd.read_csv(\"data/sc_GEM/expression_data.csv\", index_col=0))\n",
    "    methylation_data = np.array(pd.read_csv(\"data/sc_GEM/methylation_data.csv\", index_col=0))\n",
    "    cell_stage = np.array(pd.read_csv(\"data/sc_GEM/cell_stage.csv\", header=None))[0]\n",
    "    labels = []\n",
    "    for each in cell_stage:\n",
    "        if each == \"BJ\":\n",
    "            labels.append(0)\n",
    "        if each == \"d8\":\n",
    "            labels.append(1)\n",
    "        if each == \"d16T-\" or each == \"d16T+\":\n",
    "            labels.append(2)\n",
    "        if each == \"d24T-\" or each == \"d24T+\":\n",
    "            labels.append(3)\n",
    "        if each == \"IPS\":\n",
    "            labels.append(4)\n",
    "        if each == \"ES\":\n",
    "            labels.append(5)\n",
    "\n",
    "    return expression_data, methylation_data, labels\n"
   ]
  },
  {
   "cell_type": "code",
   "execution_count": 7,
   "metadata": {},
   "outputs": [],
   "source": [
    "@unique\n",
    "class NodeType(Enum):\n",
    "    OMICS = 0\n",
    "    GENES = 1\n",
    "    CELLS = 2\n"
   ]
  },
  {
   "cell_type": "code",
   "execution_count": 8,
   "metadata": {},
   "outputs": [
    {
     "name": "stdout",
     "output_type": "stream",
     "text": [
      "(2, 224, 59)\n"
     ]
    },
    {
     "data": {
      "text/plain": [
       "0.01871657371520996"
      ]
     },
     "execution_count": 8,
     "metadata": {},
     "output_type": "execute_result"
    }
   ],
   "source": [
    "start_time = time.time()\n",
    "expression_data, methylation_data, labels = load_data()\n",
    "data = np.array([expression_data, methylation_data])\n",
    "print(data.shape)\n",
    "time.time() - start_time"
   ]
  },
  {
   "cell_type": "code",
   "execution_count": 15,
   "metadata": {},
   "outputs": [
    {
     "data": {
      "text/plain": [
       "0.6524667070217918"
      ]
     },
     "execution_count": 15,
     "metadata": {},
     "output_type": "execute_result"
    }
   ],
   "source": [
    "np.count_nonzero(expression_data) / np.size(expression_data)"
   ]
  },
  {
   "cell_type": "code",
   "execution_count": 16,
   "metadata": {},
   "outputs": [
    {
     "data": {
      "text/plain": [
       "0.8285411622276029"
      ]
     },
     "execution_count": 16,
     "metadata": {},
     "output_type": "execute_result"
    }
   ],
   "source": [
    "np.count_nonzero(methylation_data) / np.size(methylation_data)"
   ]
  },
  {
   "cell_type": "code",
   "execution_count": 17,
   "metadata": {},
   "outputs": [
    {
     "name": "stdout",
     "output_type": "stream",
     "text": [
      "0.1654019064359113\n"
     ]
    },
    {
     "data": {
      "text/plain": [
       "(224, 118, 2, 344, 19573)"
      ]
     },
     "execution_count": 17,
     "metadata": {},
     "output_type": "execute_result"
    }
   ],
   "source": [
    "num_cells = methylation_data.shape[0]\n",
    "num_genes = expression_data.shape[1] + methylation_data.shape[1]\n",
    "num_omics = 2\n",
    "\n",
    "total_nodes = sum([num_cells, num_genes, num_omics])\n",
    "total_edges = np.count_nonzero(expression_data) + np.count_nonzero(methylation_data)\n",
    "\n",
    "print(total_edges / total_nodes**2)\n",
    "num_cells, num_genes, num_omics, total_nodes, total_edges"
   ]
  },
  {
   "cell_type": "code",
   "execution_count": 18,
   "metadata": {},
   "outputs": [
    {
     "data": {
      "text/plain": [
       "(0, 2, 120)"
      ]
     },
     "execution_count": 18,
     "metadata": {},
     "output_type": "execute_result"
    }
   ],
   "source": [
    "# Omics, Genes, Cells\n",
    "omics_offset = 0\n",
    "genes_offset = num_omics\n",
    "cells_offset = num_omics + num_genes\n",
    "omics_offset, genes_offset, cells_offset"
   ]
  },
  {
   "cell_type": "code",
   "execution_count": 11,
   "metadata": {},
   "outputs": [],
   "source": [
    "def get_node_type(node_id: int):\n",
    "    if omics_offset <= node_id < genes_offset:\n",
    "        return NodeType.OMICS\n",
    "    if genes_offset <= node_id < cells_offset:\n",
    "        return NodeType.GENES\n",
    "    if cells_offset <= node_id < total_nodes:\n",
    "        return NodeType.CELLS\n",
    "    raise ValueError(node_id)"
   ]
  },
  {
   "cell_type": "code",
   "execution_count": 25,
   "metadata": {},
   "outputs": [],
   "source": [
    "# Edge format: (Omic, Cell, Gene, Weight)\n",
    "def extract_hyperedges_from_feature_matrix(feature_matrix, omics_id, return_dict=True):\n",
    "    omics_node = omics_id + omics_offset\n",
    "    for row, col in zip(*np.nonzero(feature_matrix)):\n",
    "        weight = feature_matrix[row, col]\n",
    "        # Row is cell id, col is gene id. Convert to node id\n",
    "        cell_node = row + cells_offset\n",
    "        gene_node = col + genes_offset\n",
    "        if return_dict:\n",
    "            yield dict(omics_node=omics_node, cell_node=cell_node, gene_node=gene_node, weight=weight)\n",
    "        else:\n",
    "            yield omics_node, cell_node, gene_node, weight"
   ]
  },
  {
   "cell_type": "code",
   "execution_count": 27,
   "metadata": {},
   "outputs": [
    {
     "data": {
      "text/html": [
       "<div>\n",
       "<style scoped>\n",
       "    .dataframe tbody tr th:only-of-type {\n",
       "        vertical-align: middle;\n",
       "    }\n",
       "\n",
       "    .dataframe tbody tr th {\n",
       "        vertical-align: top;\n",
       "    }\n",
       "\n",
       "    .dataframe thead th {\n",
       "        text-align: right;\n",
       "    }\n",
       "</style>\n",
       "<table border=\"1\" class=\"dataframe\">\n",
       "  <thead>\n",
       "    <tr style=\"text-align: right;\">\n",
       "      <th></th>\n",
       "      <th>omics_node</th>\n",
       "      <th>cell_node</th>\n",
       "      <th>gene_node</th>\n",
       "      <th>weight</th>\n",
       "    </tr>\n",
       "  </thead>\n",
       "  <tbody>\n",
       "    <tr>\n",
       "      <th>0</th>\n",
       "      <td>0</td>\n",
       "      <td>120</td>\n",
       "      <td>2</td>\n",
       "      <td>NaN</td>\n",
       "    </tr>\n",
       "    <tr>\n",
       "      <th>1</th>\n",
       "      <td>0</td>\n",
       "      <td>120</td>\n",
       "      <td>4</td>\n",
       "      <td>NaN</td>\n",
       "    </tr>\n",
       "    <tr>\n",
       "      <th>2</th>\n",
       "      <td>0</td>\n",
       "      <td>120</td>\n",
       "      <td>5</td>\n",
       "      <td>NaN</td>\n",
       "    </tr>\n",
       "    <tr>\n",
       "      <th>3</th>\n",
       "      <td>0</td>\n",
       "      <td>120</td>\n",
       "      <td>8</td>\n",
       "      <td>NaN</td>\n",
       "    </tr>\n",
       "    <tr>\n",
       "      <th>4</th>\n",
       "      <td>0</td>\n",
       "      <td>120</td>\n",
       "      <td>11</td>\n",
       "      <td>NaN</td>\n",
       "    </tr>\n",
       "    <tr>\n",
       "      <th>...</th>\n",
       "      <td>...</td>\n",
       "      <td>...</td>\n",
       "      <td>...</td>\n",
       "      <td>...</td>\n",
       "    </tr>\n",
       "    <tr>\n",
       "      <th>19568</th>\n",
       "      <td>1</td>\n",
       "      <td>343</td>\n",
       "      <td>56</td>\n",
       "      <td>NaN</td>\n",
       "    </tr>\n",
       "    <tr>\n",
       "      <th>19569</th>\n",
       "      <td>1</td>\n",
       "      <td>343</td>\n",
       "      <td>57</td>\n",
       "      <td>NaN</td>\n",
       "    </tr>\n",
       "    <tr>\n",
       "      <th>19570</th>\n",
       "      <td>1</td>\n",
       "      <td>343</td>\n",
       "      <td>58</td>\n",
       "      <td>NaN</td>\n",
       "    </tr>\n",
       "    <tr>\n",
       "      <th>19571</th>\n",
       "      <td>1</td>\n",
       "      <td>343</td>\n",
       "      <td>59</td>\n",
       "      <td>1.0</td>\n",
       "    </tr>\n",
       "    <tr>\n",
       "      <th>19572</th>\n",
       "      <td>1</td>\n",
       "      <td>343</td>\n",
       "      <td>60</td>\n",
       "      <td>NaN</td>\n",
       "    </tr>\n",
       "  </tbody>\n",
       "</table>\n",
       "<p>19573 rows × 4 columns</p>\n",
       "</div>"
      ],
      "text/plain": [
       "       omics_node  cell_node  gene_node  weight\n",
       "0               0        120          2     NaN\n",
       "1               0        120          4     NaN\n",
       "2               0        120          5     NaN\n",
       "3               0        120          8     NaN\n",
       "4               0        120         11     NaN\n",
       "...           ...        ...        ...     ...\n",
       "19568           1        343         56     NaN\n",
       "19569           1        343         57     NaN\n",
       "19570           1        343         58     NaN\n",
       "19571           1        343         59     1.0\n",
       "19572           1        343         60     NaN\n",
       "\n",
       "[19573 rows x 4 columns]"
      ]
     },
     "execution_count": 27,
     "metadata": {},
     "output_type": "execute_result"
    }
   ],
   "source": [
    "from itertools import chain\n",
    "\n",
    "df = pd.DataFrame.from_records(chain(\n",
    "    extract_hyperedges_from_feature_matrix(expression_data, 0),\n",
    "    extract_hyperedges_from_feature_matrix(methylation_data, 1)))\n",
    "df"
   ]
  },
  {
   "cell_type": "code",
   "execution_count": 29,
   "metadata": {},
   "outputs": [],
   "source": [
    "weight_nan_idx = df.weight.isna()"
   ]
  },
  {
   "cell_type": "code",
   "execution_count": 33,
   "metadata": {},
   "outputs": [
    {
     "data": {
      "text/plain": [
       "0.6523271854084709"
      ]
     },
     "execution_count": 33,
     "metadata": {},
     "output_type": "execute_result"
    }
   ],
   "source": [
    "sum(weight_nan_idx) / len(weight_nan_idx)"
   ]
  },
  {
   "cell_type": "code",
   "execution_count": 35,
   "metadata": {},
   "outputs": [
    {
     "data": {
      "text/plain": [
       "(12768, 19573)"
      ]
     },
     "execution_count": 35,
     "metadata": {},
     "output_type": "execute_result"
    }
   ],
   "source": [
    "len(df[df.weight.isna()]), len(df)"
   ]
  },
  {
   "cell_type": "code",
   "execution_count": 36,
   "metadata": {},
   "outputs": [],
   "source": [
    "df.to_csv('HE_sc_GEM_with_na.csv')"
   ]
  }
 ],
 "metadata": {
  "kernelspec": {
   "display_name": "py39",
   "language": "python",
   "name": "python3"
  },
  "language_info": {
   "codemirror_mode": {
    "name": "ipython",
    "version": 3
   },
   "file_extension": ".py",
   "mimetype": "text/x-python",
   "name": "python",
   "nbconvert_exporter": "python",
   "pygments_lexer": "ipython3",
   "version": "3.9.23"
  }
 },
 "nbformat": 4,
 "nbformat_minor": 2
}
